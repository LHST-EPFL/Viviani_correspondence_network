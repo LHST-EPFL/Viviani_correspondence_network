{
 "cells": [
  {
   "cell_type": "code",
   "execution_count": 282,
   "metadata": {},
   "outputs": [],
   "source": [
    "import pandas as pd\n",
    "import numpy as np\n",
    "import matplotlib.pyplot as plt\n",
    "import seaborn as sns"
   ]
  },
  {
   "cell_type": "code",
   "execution_count": 2,
   "metadata": {},
   "outputs": [
    {
     "data": {
      "text/html": [
       "<div>\n",
       "<style scoped>\n",
       "    .dataframe tbody tr th:only-of-type {\n",
       "        vertical-align: middle;\n",
       "    }\n",
       "\n",
       "    .dataframe tbody tr th {\n",
       "        vertical-align: top;\n",
       "    }\n",
       "\n",
       "    .dataframe thead th {\n",
       "        text-align: right;\n",
       "    }\n",
       "</style>\n",
       "<table border=\"1\" class=\"dataframe\">\n",
       "  <thead>\n",
       "    <tr style=\"text-align: right;\">\n",
       "      <th></th>\n",
       "      <th>Expéditeur</th>\n",
       "      <th>Notes</th>\n",
       "      <th>References</th>\n",
       "      <th>Noms cités</th>\n",
       "      <th>Sujet</th>\n",
       "      <th>Titre</th>\n",
       "      <th>Date</th>\n",
       "      <th>Provenance</th>\n",
       "      <th>Destination</th>\n",
       "      <th>Destinataire</th>\n",
       "    </tr>\n",
       "  </thead>\n",
       "  <tbody>\n",
       "    <tr>\n",
       "      <th>0</th>\n",
       "      <td>Viviani  Vincenzo  1622-1703</td>\n",
       "      <td>Tipologia: letteraIncipit: \"Come posso non agg...</td>\n",
       "      <td>&lt;td class=\"fieldValue\"&gt;&lt;img border=\"0\" src=\"ht...</td>\n",
       "      <td>Torricelli, Evangelista, 1608-1647,(citato.)Ri...</td>\n",
       "      <td>NaN</td>\n",
       "      <td>Viviani Vincenzo a Ricci Michelangelo</td>\n",
       "      <td>20/05/1646</td>\n",
       "      <td>Firenze</td>\n",
       "      <td>Roma</td>\n",
       "      <td>Ricci Michelangelo</td>\n",
       "    </tr>\n",
       "    <tr>\n",
       "      <th>1</th>\n",
       "      <td>Viviani  Vincenzo  1622-1703</td>\n",
       "      <td>Tipologia: letteraIncipit: \"Reputo a mio gran ...</td>\n",
       "      <td>&lt;td class=\"fieldValue\"&gt;&lt;img border=\"0\" src=\"ht...</td>\n",
       "      <td>Torricelli, Evangelista, 1608-1647,(citato.)Re...</td>\n",
       "      <td>NaN</td>\n",
       "      <td>Viviani Vincenzo a Renieri Vincenzo</td>\n",
       "      <td>13/04/1647</td>\n",
       "      <td>Firenze</td>\n",
       "      <td>Pisa</td>\n",
       "      <td>Renieri Vincenzo</td>\n",
       "    </tr>\n",
       "    <tr>\n",
       "      <th>2</th>\n",
       "      <td>Viviani  Vincenzo  1622-1703</td>\n",
       "      <td>Tipologia: letteraIncipit: \"L'esser io per spa...</td>\n",
       "      <td>&lt;td class=\"fieldValue\"&gt;&lt;img border=\"0\" src=\"ht...</td>\n",
       "      <td>Torricelli, Evangelista, 1608-1647,(citato.)Ri...</td>\n",
       "      <td>NaN</td>\n",
       "      <td>Viviani Vincenzo a Ricci Michelangelo</td>\n",
       "      <td>24/11/1648</td>\n",
       "      <td>Firenze</td>\n",
       "      <td>Roma</td>\n",
       "      <td>Ricci Michelangelo</td>\n",
       "    </tr>\n",
       "    <tr>\n",
       "      <th>3</th>\n",
       "      <td>Viviani  Vincenzo  1622-1703</td>\n",
       "      <td>Tipologia: letteraIncipit: \"Haverei necessità ...</td>\n",
       "      <td>&lt;td class=\"fieldValue\"&gt;&lt;img border=\"0\" src=\"ht...</td>\n",
       "      <td>Cecchi, Andrea, sec. XVII,(citato.)Arrighetti,...</td>\n",
       "      <td>NaN</td>\n",
       "      <td>Viviani Vincenzo a Manetti Braccio</td>\n",
       "      <td>18/10/1651</td>\n",
       "      <td>NaN</td>\n",
       "      <td>Firenze</td>\n",
       "      <td>Manetti Braccio</td>\n",
       "    </tr>\n",
       "    <tr>\n",
       "      <th>4</th>\n",
       "      <td>Viviani  Vincenzo  1622-1703</td>\n",
       "      <td>Tipologia: letteraIncipit: \"Qui tutto giorno c...</td>\n",
       "      <td>&lt;td class=\"fieldValue\"&gt;&lt;img border=\"0\" src=\"ht...</td>\n",
       "      <td>Di Pietro, sec. XVII,(citato.)Viviani, Alamann...</td>\n",
       "      <td>Argomenti privati</td>\n",
       "      <td>Viviani Vincenzo a Viviani Alamanno</td>\n",
       "      <td>23/02/1652</td>\n",
       "      <td>Firenze</td>\n",
       "      <td>NaN</td>\n",
       "      <td>Viviani Alamanno</td>\n",
       "    </tr>\n",
       "    <tr>\n",
       "      <th>...</th>\n",
       "      <td>...</td>\n",
       "      <td>...</td>\n",
       "      <td>...</td>\n",
       "      <td>...</td>\n",
       "      <td>...</td>\n",
       "      <td>...</td>\n",
       "      <td>...</td>\n",
       "      <td>...</td>\n",
       "      <td>...</td>\n",
       "      <td>...</td>\n",
       "    </tr>\n",
       "    <tr>\n",
       "      <th>2869</th>\n",
       "      <td>Viviani  Vincenzo  1622-1703</td>\n",
       "      <td>Tipologia: letteraIncipit: \"Così cadano dal Ci...</td>\n",
       "      <td>&lt;td class=\"fieldValue\"&gt;&lt;img border=\"0\" src=\"ht...</td>\n",
       "      <td>Democritus, ca. 460-ca. 370 a.C.,(citato.)Maga...</td>\n",
       "      <td>NaN</td>\n",
       "      <td>Viviani Vincenzo a Magalotti Lorenzo</td>\n",
       "      <td>Unidentified</td>\n",
       "      <td>NaN</td>\n",
       "      <td>NaN</td>\n",
       "      <td>Magalotti Lorenzo</td>\n",
       "    </tr>\n",
       "    <tr>\n",
       "      <th>2870</th>\n",
       "      <td>Magalotti  Lorenzo  1637-1712</td>\n",
       "      <td>Tipologia: letteraIncipit: \"Tra gli applausi d...</td>\n",
       "      <td>&lt;td class=\"fieldValue\"&gt;&lt;img border=\"0\" src=\"ht...</td>\n",
       "      <td>Viviani, Vincenzo, 1622-1703,(destinatario.)</td>\n",
       "      <td>NaN</td>\n",
       "      <td>Magalotti Lorenzo a Viviani Vincenzo</td>\n",
       "      <td>Unidentified</td>\n",
       "      <td>NaN</td>\n",
       "      <td>NaN</td>\n",
       "      <td>Viviani Vincenzo</td>\n",
       "    </tr>\n",
       "    <tr>\n",
       "      <th>2871</th>\n",
       "      <td>Steensen  Niels  1638-1686</td>\n",
       "      <td>Tipologia: letteraIncipit: \"Mi scusi di non es...</td>\n",
       "      <td>&lt;td class=\"fieldValue\"&gt;&lt;img border=\"0\" src=\"ht...</td>\n",
       "      <td>Viviani, Vincenzo, 1622-1703,(destinatario.)</td>\n",
       "      <td>NaN</td>\n",
       "      <td>Steensen Niels a Viviani Vincenzo</td>\n",
       "      <td>Unidentified</td>\n",
       "      <td>NaN</td>\n",
       "      <td>NaN</td>\n",
       "      <td>Viviani Vincenzo</td>\n",
       "    </tr>\n",
       "    <tr>\n",
       "      <th>2872</th>\n",
       "      <td>Viviani  Vincenzo  1622-1703</td>\n",
       "      <td>Tipologia: letteraIncipit: \"Se le velocità de ...</td>\n",
       "      <td>&lt;td class=\"fieldValue\"&gt;&lt;img border=\"0\" src=\"ht...</td>\n",
       "      <td>Ferdinando II, granduca di Toscana, 1610-1670,...</td>\n",
       "      <td>NaN</td>\n",
       "      <td>Viviani Vincenzo a Ferdinando (II, granduca di...</td>\n",
       "      <td>Unidentified</td>\n",
       "      <td>NaN</td>\n",
       "      <td>NaN</td>\n",
       "      <td>Ferdinando (II, granduca di Toscana)</td>\n",
       "    </tr>\n",
       "    <tr>\n",
       "      <th>2873</th>\n",
       "      <td>Viviani  Vincenzo  1622-1703</td>\n",
       "      <td>Tipologia: letteraIncipit: \"Se le velocità dei...</td>\n",
       "      <td>&lt;td class=\"fieldValue\"&gt;&lt;img border=\"0\" src=\"ht...</td>\n",
       "      <td>Ferdinando II, granduca di Toscana, 1610-1670,...</td>\n",
       "      <td>NaN</td>\n",
       "      <td>Viviani Vincenzo a Ferdinando (II, granduca di...</td>\n",
       "      <td>Unidentified</td>\n",
       "      <td>NaN</td>\n",
       "      <td>NaN</td>\n",
       "      <td>Ferdinando (II, granduca di Toscana)</td>\n",
       "    </tr>\n",
       "  </tbody>\n",
       "</table>\n",
       "<p>2874 rows × 10 columns</p>\n",
       "</div>"
      ],
      "text/plain": [
       "                         Expéditeur  \\\n",
       "0      Viviani  Vincenzo  1622-1703   \n",
       "1      Viviani  Vincenzo  1622-1703   \n",
       "2      Viviani  Vincenzo  1622-1703   \n",
       "3      Viviani  Vincenzo  1622-1703   \n",
       "4      Viviani  Vincenzo  1622-1703   \n",
       "...                             ...   \n",
       "2869   Viviani  Vincenzo  1622-1703   \n",
       "2870  Magalotti  Lorenzo  1637-1712   \n",
       "2871     Steensen  Niels  1638-1686   \n",
       "2872   Viviani  Vincenzo  1622-1703   \n",
       "2873   Viviani  Vincenzo  1622-1703   \n",
       "\n",
       "                                                  Notes  \\\n",
       "0     Tipologia: letteraIncipit: \"Come posso non agg...   \n",
       "1     Tipologia: letteraIncipit: \"Reputo a mio gran ...   \n",
       "2     Tipologia: letteraIncipit: \"L'esser io per spa...   \n",
       "3     Tipologia: letteraIncipit: \"Haverei necessità ...   \n",
       "4     Tipologia: letteraIncipit: \"Qui tutto giorno c...   \n",
       "...                                                 ...   \n",
       "2869  Tipologia: letteraIncipit: \"Così cadano dal Ci...   \n",
       "2870  Tipologia: letteraIncipit: \"Tra gli applausi d...   \n",
       "2871  Tipologia: letteraIncipit: \"Mi scusi di non es...   \n",
       "2872  Tipologia: letteraIncipit: \"Se le velocità de ...   \n",
       "2873  Tipologia: letteraIncipit: \"Se le velocità dei...   \n",
       "\n",
       "                                             References  \\\n",
       "0     <td class=\"fieldValue\"><img border=\"0\" src=\"ht...   \n",
       "1     <td class=\"fieldValue\"><img border=\"0\" src=\"ht...   \n",
       "2     <td class=\"fieldValue\"><img border=\"0\" src=\"ht...   \n",
       "3     <td class=\"fieldValue\"><img border=\"0\" src=\"ht...   \n",
       "4     <td class=\"fieldValue\"><img border=\"0\" src=\"ht...   \n",
       "...                                                 ...   \n",
       "2869  <td class=\"fieldValue\"><img border=\"0\" src=\"ht...   \n",
       "2870  <td class=\"fieldValue\"><img border=\"0\" src=\"ht...   \n",
       "2871  <td class=\"fieldValue\"><img border=\"0\" src=\"ht...   \n",
       "2872  <td class=\"fieldValue\"><img border=\"0\" src=\"ht...   \n",
       "2873  <td class=\"fieldValue\"><img border=\"0\" src=\"ht...   \n",
       "\n",
       "                                             Noms cités              Sujet  \\\n",
       "0     Torricelli, Evangelista, 1608-1647,(citato.)Ri...                NaN   \n",
       "1     Torricelli, Evangelista, 1608-1647,(citato.)Re...                NaN   \n",
       "2     Torricelli, Evangelista, 1608-1647,(citato.)Ri...                NaN   \n",
       "3     Cecchi, Andrea, sec. XVII,(citato.)Arrighetti,...                NaN   \n",
       "4     Di Pietro, sec. XVII,(citato.)Viviani, Alamann...  Argomenti privati   \n",
       "...                                                 ...                ...   \n",
       "2869  Democritus, ca. 460-ca. 370 a.C.,(citato.)Maga...                NaN   \n",
       "2870       Viviani, Vincenzo, 1622-1703,(destinatario.)                NaN   \n",
       "2871       Viviani, Vincenzo, 1622-1703,(destinatario.)                NaN   \n",
       "2872  Ferdinando II, granduca di Toscana, 1610-1670,...                NaN   \n",
       "2873  Ferdinando II, granduca di Toscana, 1610-1670,...                NaN   \n",
       "\n",
       "                                                  Titre          Date  \\\n",
       "0                 Viviani Vincenzo a Ricci Michelangelo    20/05/1646   \n",
       "1                   Viviani Vincenzo a Renieri Vincenzo    13/04/1647   \n",
       "2                 Viviani Vincenzo a Ricci Michelangelo    24/11/1648   \n",
       "3                    Viviani Vincenzo a Manetti Braccio    18/10/1651   \n",
       "4                   Viviani Vincenzo a Viviani Alamanno    23/02/1652   \n",
       "...                                                 ...           ...   \n",
       "2869               Viviani Vincenzo a Magalotti Lorenzo  Unidentified   \n",
       "2870               Magalotti Lorenzo a Viviani Vincenzo  Unidentified   \n",
       "2871                  Steensen Niels a Viviani Vincenzo  Unidentified   \n",
       "2872  Viviani Vincenzo a Ferdinando (II, granduca di...  Unidentified   \n",
       "2873  Viviani Vincenzo a Ferdinando (II, granduca di...  Unidentified   \n",
       "\n",
       "     Provenance Destination                          Destinataire  \n",
       "0       Firenze        Roma                    Ricci Michelangelo  \n",
       "1       Firenze        Pisa                      Renieri Vincenzo  \n",
       "2       Firenze        Roma                    Ricci Michelangelo  \n",
       "3           NaN     Firenze                       Manetti Braccio  \n",
       "4       Firenze         NaN                      Viviani Alamanno  \n",
       "...         ...         ...                                   ...  \n",
       "2869        NaN         NaN                     Magalotti Lorenzo  \n",
       "2870        NaN         NaN                      Viviani Vincenzo  \n",
       "2871        NaN         NaN                      Viviani Vincenzo  \n",
       "2872        NaN         NaN  Ferdinando (II, granduca di Toscana)  \n",
       "2873        NaN         NaN  Ferdinando (II, granduca di Toscana)  \n",
       "\n",
       "[2874 rows x 10 columns]"
      ]
     },
     "execution_count": 2,
     "metadata": {},
     "output_type": "execute_result"
    }
   ],
   "source": [
    "#uploading the filtred database\n",
    "filtred_db = pd.read_csv('filtred.csv')\n",
    "filtred_db"
   ]
  },
  {
   "cell_type": "code",
   "execution_count": 230,
   "metadata": {},
   "outputs": [],
   "source": [
    "sent = filtred_with_year.loc[filtred_with_year['Expéditeur'].str.contains('Viviani')]\n",
    "sent = sent.loc[sent['Expéditeur'].str.contains('Vincenzo')]\n",
    "Received = filtred_with_year.loc[filtred_with_year['Destinataire'].str.contains('Viviani')]\n",
    "Received = Received.loc[Received['Destinataire'].str.contains('Vincenzo')]"
   ]
  },
  {
   "cell_type": "code",
   "execution_count": 243,
   "metadata": {},
   "outputs": [
    {
     "data": {
      "text/plain": [
       "array(['1646', '1647', '1648', '1651', '1652', '1653', '1654', '1655',\n",
       "       '1656', '1657', '1658', '1659', '1660', 'Unidentified', '1661',\n",
       "       '1662', '1663', '1664', '1665', '1666', '1667', '1668', '1669',\n",
       "       '1670', '1671', '1672', '1673', '1674', '1675', '1676', '1677',\n",
       "       '1678', '1679', '1680', '1681', '1682', '1683', '1684', '1685',\n",
       "       '1686', '1687', '1688', '1689', '1690', '1691', '1692', '1693',\n",
       "       '1694', '1695', '1696', '1697', '1698', '1699', '1700', '1644',\n",
       "       '1701'], dtype=object)"
      ]
     },
     "execution_count": 243,
     "metadata": {},
     "output_type": "execute_result"
    }
   ],
   "source": [
    "sent['Year'].unique()"
   ]
  },
  {
   "cell_type": "code",
   "execution_count": 231,
   "metadata": {},
   "outputs": [],
   "source": [
    "compression_opts = dict(method='zip',\n",
    "                        archive_name='sent_year.csv')  \n",
    "sent.to_csv('Sent_year.zip', index=False,\n",
    "          compression=compression_opts)\n",
    "\n",
    "compression_opts = dict(method='zip',\n",
    "                        archive_name='received_year.csv')  \n",
    "Received.to_csv('Received_year.zip', index=False,\n",
    "          compression=compression_opts)"
   ]
  },
  {
   "cell_type": "code",
   "execution_count": null,
   "metadata": {},
   "outputs": [],
   "source": []
  },
  {
   "cell_type": "code",
   "execution_count": null,
   "metadata": {},
   "outputs": [],
   "source": []
  },
  {
   "cell_type": "code",
   "execution_count": 78,
   "metadata": {},
   "outputs": [],
   "source": [
    "filtred_db['Date'] = filtred_db['Date'].map(lambda x: x.replace(']',''))"
   ]
  },
  {
   "cell_type": "code",
   "execution_count": 87,
   "metadata": {},
   "outputs": [],
   "source": [
    "#manually fixing a date\n",
    "filtred_db['Date'] = filtred_db['Date'].map(lambda x: x.replace('/4-6','1681'))"
   ]
  },
  {
   "cell_type": "code",
   "execution_count": 97,
   "metadata": {},
   "outputs": [],
   "source": [
    "#manually fixing dates written in Roman\n",
    "filtred_db['Date'] = filtred_db['Date'].map(lambda x: x.replace('CLXX','1670'))\n",
    "filtred_db['Date'] = filtred_db['Date'].map(lambda x: x.replace('DCLX','1670'))"
   ]
  },
  {
   "cell_type": "code",
   "execution_count": 98,
   "metadata": {},
   "outputs": [],
   "source": [
    "filtred_with_year = filtred_db\n",
    "filtred_with_year['Year'] = filtred_db['Date'].str[-4:]\n",
    "filtred_with_year.loc[filtred_with_year['Year'].str.contains('fied'),'Year'] = 'Unidentified'"
   ]
  },
  {
   "cell_type": "code",
   "execution_count": 99,
   "metadata": {
    "scrolled": false
   },
   "outputs": [
    {
     "data": {
      "text/html": [
       "<div>\n",
       "<style scoped>\n",
       "    .dataframe tbody tr th:only-of-type {\n",
       "        vertical-align: middle;\n",
       "    }\n",
       "\n",
       "    .dataframe tbody tr th {\n",
       "        vertical-align: top;\n",
       "    }\n",
       "\n",
       "    .dataframe thead th {\n",
       "        text-align: right;\n",
       "    }\n",
       "</style>\n",
       "<table border=\"1\" class=\"dataframe\">\n",
       "  <thead>\n",
       "    <tr style=\"text-align: right;\">\n",
       "      <th></th>\n",
       "      <th>Expéditeur</th>\n",
       "      <th>Notes</th>\n",
       "      <th>References</th>\n",
       "      <th>Noms cités</th>\n",
       "      <th>Sujet</th>\n",
       "      <th>Titre</th>\n",
       "      <th>Date</th>\n",
       "      <th>Provenance</th>\n",
       "      <th>Destination</th>\n",
       "      <th>Destinataire</th>\n",
       "      <th>Year</th>\n",
       "    </tr>\n",
       "  </thead>\n",
       "  <tbody>\n",
       "    <tr>\n",
       "      <th>0</th>\n",
       "      <td>Viviani  Vincenzo  1622-1703</td>\n",
       "      <td>Tipologia: letteraIncipit: \"Come posso non agg...</td>\n",
       "      <td>&lt;td class=\"fieldValue\"&gt;&lt;img border=\"0\" src=\"ht...</td>\n",
       "      <td>Torricelli, Evangelista, 1608-1647,(citato.)Ri...</td>\n",
       "      <td>NaN</td>\n",
       "      <td>Viviani Vincenzo a Ricci Michelangelo</td>\n",
       "      <td>20/05/1646</td>\n",
       "      <td>Firenze</td>\n",
       "      <td>Roma</td>\n",
       "      <td>Ricci Michelangelo</td>\n",
       "      <td>1646</td>\n",
       "    </tr>\n",
       "    <tr>\n",
       "      <th>1</th>\n",
       "      <td>Viviani  Vincenzo  1622-1703</td>\n",
       "      <td>Tipologia: letteraIncipit: \"Reputo a mio gran ...</td>\n",
       "      <td>&lt;td class=\"fieldValue\"&gt;&lt;img border=\"0\" src=\"ht...</td>\n",
       "      <td>Torricelli, Evangelista, 1608-1647,(citato.)Re...</td>\n",
       "      <td>NaN</td>\n",
       "      <td>Viviani Vincenzo a Renieri Vincenzo</td>\n",
       "      <td>13/04/1647</td>\n",
       "      <td>Firenze</td>\n",
       "      <td>Pisa</td>\n",
       "      <td>Renieri Vincenzo</td>\n",
       "      <td>1647</td>\n",
       "    </tr>\n",
       "    <tr>\n",
       "      <th>2</th>\n",
       "      <td>Viviani  Vincenzo  1622-1703</td>\n",
       "      <td>Tipologia: letteraIncipit: \"L'esser io per spa...</td>\n",
       "      <td>&lt;td class=\"fieldValue\"&gt;&lt;img border=\"0\" src=\"ht...</td>\n",
       "      <td>Torricelli, Evangelista, 1608-1647,(citato.)Ri...</td>\n",
       "      <td>NaN</td>\n",
       "      <td>Viviani Vincenzo a Ricci Michelangelo</td>\n",
       "      <td>24/11/1648</td>\n",
       "      <td>Firenze</td>\n",
       "      <td>Roma</td>\n",
       "      <td>Ricci Michelangelo</td>\n",
       "      <td>1648</td>\n",
       "    </tr>\n",
       "    <tr>\n",
       "      <th>3</th>\n",
       "      <td>Viviani  Vincenzo  1622-1703</td>\n",
       "      <td>Tipologia: letteraIncipit: \"Haverei necessità ...</td>\n",
       "      <td>&lt;td class=\"fieldValue\"&gt;&lt;img border=\"0\" src=\"ht...</td>\n",
       "      <td>Cecchi, Andrea, sec. XVII,(citato.)Arrighetti,...</td>\n",
       "      <td>NaN</td>\n",
       "      <td>Viviani Vincenzo a Manetti Braccio</td>\n",
       "      <td>18/10/1651</td>\n",
       "      <td>NaN</td>\n",
       "      <td>Firenze</td>\n",
       "      <td>Manetti Braccio</td>\n",
       "      <td>1651</td>\n",
       "    </tr>\n",
       "    <tr>\n",
       "      <th>4</th>\n",
       "      <td>Viviani  Vincenzo  1622-1703</td>\n",
       "      <td>Tipologia: letteraIncipit: \"Qui tutto giorno c...</td>\n",
       "      <td>&lt;td class=\"fieldValue\"&gt;&lt;img border=\"0\" src=\"ht...</td>\n",
       "      <td>Di Pietro, sec. XVII,(citato.)Viviani, Alamann...</td>\n",
       "      <td>Argomenti privati</td>\n",
       "      <td>Viviani Vincenzo a Viviani Alamanno</td>\n",
       "      <td>23/02/1652</td>\n",
       "      <td>Firenze</td>\n",
       "      <td>NaN</td>\n",
       "      <td>Viviani Alamanno</td>\n",
       "      <td>1652</td>\n",
       "    </tr>\n",
       "    <tr>\n",
       "      <th>...</th>\n",
       "      <td>...</td>\n",
       "      <td>...</td>\n",
       "      <td>...</td>\n",
       "      <td>...</td>\n",
       "      <td>...</td>\n",
       "      <td>...</td>\n",
       "      <td>...</td>\n",
       "      <td>...</td>\n",
       "      <td>...</td>\n",
       "      <td>...</td>\n",
       "      <td>...</td>\n",
       "    </tr>\n",
       "    <tr>\n",
       "      <th>2869</th>\n",
       "      <td>Viviani  Vincenzo  1622-1703</td>\n",
       "      <td>Tipologia: letteraIncipit: \"Così cadano dal Ci...</td>\n",
       "      <td>&lt;td class=\"fieldValue\"&gt;&lt;img border=\"0\" src=\"ht...</td>\n",
       "      <td>Democritus, ca. 460-ca. 370 a.C.,(citato.)Maga...</td>\n",
       "      <td>NaN</td>\n",
       "      <td>Viviani Vincenzo a Magalotti Lorenzo</td>\n",
       "      <td>Unidentified</td>\n",
       "      <td>NaN</td>\n",
       "      <td>NaN</td>\n",
       "      <td>Magalotti Lorenzo</td>\n",
       "      <td>Unidentified</td>\n",
       "    </tr>\n",
       "    <tr>\n",
       "      <th>2870</th>\n",
       "      <td>Magalotti  Lorenzo  1637-1712</td>\n",
       "      <td>Tipologia: letteraIncipit: \"Tra gli applausi d...</td>\n",
       "      <td>&lt;td class=\"fieldValue\"&gt;&lt;img border=\"0\" src=\"ht...</td>\n",
       "      <td>Viviani, Vincenzo, 1622-1703,(destinatario.)</td>\n",
       "      <td>NaN</td>\n",
       "      <td>Magalotti Lorenzo a Viviani Vincenzo</td>\n",
       "      <td>Unidentified</td>\n",
       "      <td>NaN</td>\n",
       "      <td>NaN</td>\n",
       "      <td>Viviani Vincenzo</td>\n",
       "      <td>Unidentified</td>\n",
       "    </tr>\n",
       "    <tr>\n",
       "      <th>2871</th>\n",
       "      <td>Steensen  Niels  1638-1686</td>\n",
       "      <td>Tipologia: letteraIncipit: \"Mi scusi di non es...</td>\n",
       "      <td>&lt;td class=\"fieldValue\"&gt;&lt;img border=\"0\" src=\"ht...</td>\n",
       "      <td>Viviani, Vincenzo, 1622-1703,(destinatario.)</td>\n",
       "      <td>NaN</td>\n",
       "      <td>Steensen Niels a Viviani Vincenzo</td>\n",
       "      <td>Unidentified</td>\n",
       "      <td>NaN</td>\n",
       "      <td>NaN</td>\n",
       "      <td>Viviani Vincenzo</td>\n",
       "      <td>Unidentified</td>\n",
       "    </tr>\n",
       "    <tr>\n",
       "      <th>2872</th>\n",
       "      <td>Viviani  Vincenzo  1622-1703</td>\n",
       "      <td>Tipologia: letteraIncipit: \"Se le velocità de ...</td>\n",
       "      <td>&lt;td class=\"fieldValue\"&gt;&lt;img border=\"0\" src=\"ht...</td>\n",
       "      <td>Ferdinando II, granduca di Toscana, 1610-1670,...</td>\n",
       "      <td>NaN</td>\n",
       "      <td>Viviani Vincenzo a Ferdinando (II, granduca di...</td>\n",
       "      <td>Unidentified</td>\n",
       "      <td>NaN</td>\n",
       "      <td>NaN</td>\n",
       "      <td>Ferdinando (II, granduca di Toscana)</td>\n",
       "      <td>Unidentified</td>\n",
       "    </tr>\n",
       "    <tr>\n",
       "      <th>2873</th>\n",
       "      <td>Viviani  Vincenzo  1622-1703</td>\n",
       "      <td>Tipologia: letteraIncipit: \"Se le velocità dei...</td>\n",
       "      <td>&lt;td class=\"fieldValue\"&gt;&lt;img border=\"0\" src=\"ht...</td>\n",
       "      <td>Ferdinando II, granduca di Toscana, 1610-1670,...</td>\n",
       "      <td>NaN</td>\n",
       "      <td>Viviani Vincenzo a Ferdinando (II, granduca di...</td>\n",
       "      <td>Unidentified</td>\n",
       "      <td>NaN</td>\n",
       "      <td>NaN</td>\n",
       "      <td>Ferdinando (II, granduca di Toscana)</td>\n",
       "      <td>Unidentified</td>\n",
       "    </tr>\n",
       "  </tbody>\n",
       "</table>\n",
       "<p>2874 rows × 11 columns</p>\n",
       "</div>"
      ],
      "text/plain": [
       "                         Expéditeur  \\\n",
       "0      Viviani  Vincenzo  1622-1703   \n",
       "1      Viviani  Vincenzo  1622-1703   \n",
       "2      Viviani  Vincenzo  1622-1703   \n",
       "3      Viviani  Vincenzo  1622-1703   \n",
       "4      Viviani  Vincenzo  1622-1703   \n",
       "...                             ...   \n",
       "2869   Viviani  Vincenzo  1622-1703   \n",
       "2870  Magalotti  Lorenzo  1637-1712   \n",
       "2871     Steensen  Niels  1638-1686   \n",
       "2872   Viviani  Vincenzo  1622-1703   \n",
       "2873   Viviani  Vincenzo  1622-1703   \n",
       "\n",
       "                                                  Notes  \\\n",
       "0     Tipologia: letteraIncipit: \"Come posso non agg...   \n",
       "1     Tipologia: letteraIncipit: \"Reputo a mio gran ...   \n",
       "2     Tipologia: letteraIncipit: \"L'esser io per spa...   \n",
       "3     Tipologia: letteraIncipit: \"Haverei necessità ...   \n",
       "4     Tipologia: letteraIncipit: \"Qui tutto giorno c...   \n",
       "...                                                 ...   \n",
       "2869  Tipologia: letteraIncipit: \"Così cadano dal Ci...   \n",
       "2870  Tipologia: letteraIncipit: \"Tra gli applausi d...   \n",
       "2871  Tipologia: letteraIncipit: \"Mi scusi di non es...   \n",
       "2872  Tipologia: letteraIncipit: \"Se le velocità de ...   \n",
       "2873  Tipologia: letteraIncipit: \"Se le velocità dei...   \n",
       "\n",
       "                                             References  \\\n",
       "0     <td class=\"fieldValue\"><img border=\"0\" src=\"ht...   \n",
       "1     <td class=\"fieldValue\"><img border=\"0\" src=\"ht...   \n",
       "2     <td class=\"fieldValue\"><img border=\"0\" src=\"ht...   \n",
       "3     <td class=\"fieldValue\"><img border=\"0\" src=\"ht...   \n",
       "4     <td class=\"fieldValue\"><img border=\"0\" src=\"ht...   \n",
       "...                                                 ...   \n",
       "2869  <td class=\"fieldValue\"><img border=\"0\" src=\"ht...   \n",
       "2870  <td class=\"fieldValue\"><img border=\"0\" src=\"ht...   \n",
       "2871  <td class=\"fieldValue\"><img border=\"0\" src=\"ht...   \n",
       "2872  <td class=\"fieldValue\"><img border=\"0\" src=\"ht...   \n",
       "2873  <td class=\"fieldValue\"><img border=\"0\" src=\"ht...   \n",
       "\n",
       "                                             Noms cités              Sujet  \\\n",
       "0     Torricelli, Evangelista, 1608-1647,(citato.)Ri...                NaN   \n",
       "1     Torricelli, Evangelista, 1608-1647,(citato.)Re...                NaN   \n",
       "2     Torricelli, Evangelista, 1608-1647,(citato.)Ri...                NaN   \n",
       "3     Cecchi, Andrea, sec. XVII,(citato.)Arrighetti,...                NaN   \n",
       "4     Di Pietro, sec. XVII,(citato.)Viviani, Alamann...  Argomenti privati   \n",
       "...                                                 ...                ...   \n",
       "2869  Democritus, ca. 460-ca. 370 a.C.,(citato.)Maga...                NaN   \n",
       "2870       Viviani, Vincenzo, 1622-1703,(destinatario.)                NaN   \n",
       "2871       Viviani, Vincenzo, 1622-1703,(destinatario.)                NaN   \n",
       "2872  Ferdinando II, granduca di Toscana, 1610-1670,...                NaN   \n",
       "2873  Ferdinando II, granduca di Toscana, 1610-1670,...                NaN   \n",
       "\n",
       "                                                  Titre          Date  \\\n",
       "0                 Viviani Vincenzo a Ricci Michelangelo    20/05/1646   \n",
       "1                   Viviani Vincenzo a Renieri Vincenzo    13/04/1647   \n",
       "2                 Viviani Vincenzo a Ricci Michelangelo    24/11/1648   \n",
       "3                    Viviani Vincenzo a Manetti Braccio    18/10/1651   \n",
       "4                   Viviani Vincenzo a Viviani Alamanno    23/02/1652   \n",
       "...                                                 ...           ...   \n",
       "2869               Viviani Vincenzo a Magalotti Lorenzo  Unidentified   \n",
       "2870               Magalotti Lorenzo a Viviani Vincenzo  Unidentified   \n",
       "2871                  Steensen Niels a Viviani Vincenzo  Unidentified   \n",
       "2872  Viviani Vincenzo a Ferdinando (II, granduca di...  Unidentified   \n",
       "2873  Viviani Vincenzo a Ferdinando (II, granduca di...  Unidentified   \n",
       "\n",
       "     Provenance Destination                          Destinataire  \\\n",
       "0       Firenze        Roma                    Ricci Michelangelo   \n",
       "1       Firenze        Pisa                      Renieri Vincenzo   \n",
       "2       Firenze        Roma                    Ricci Michelangelo   \n",
       "3           NaN     Firenze                       Manetti Braccio   \n",
       "4       Firenze         NaN                      Viviani Alamanno   \n",
       "...         ...         ...                                   ...   \n",
       "2869        NaN         NaN                     Magalotti Lorenzo   \n",
       "2870        NaN         NaN                      Viviani Vincenzo   \n",
       "2871        NaN         NaN                      Viviani Vincenzo   \n",
       "2872        NaN         NaN  Ferdinando (II, granduca di Toscana)   \n",
       "2873        NaN         NaN  Ferdinando (II, granduca di Toscana)   \n",
       "\n",
       "              Year  \n",
       "0             1646  \n",
       "1             1647  \n",
       "2             1648  \n",
       "3             1651  \n",
       "4             1652  \n",
       "...            ...  \n",
       "2869  Unidentified  \n",
       "2870  Unidentified  \n",
       "2871  Unidentified  \n",
       "2872  Unidentified  \n",
       "2873  Unidentified  \n",
       "\n",
       "[2874 rows x 11 columns]"
      ]
     },
     "execution_count": 99,
     "metadata": {},
     "output_type": "execute_result"
    }
   ],
   "source": [
    "filtred_with_year"
   ]
  },
  {
   "cell_type": "code",
   "execution_count": 212,
   "metadata": {},
   "outputs": [],
   "source": [
    "#saving the changes\n",
    "compression_opts = dict(method='zip',\n",
    "                        archive_name='filtred_year.csv')  \n",
    "filtred_with_year.to_csv('filtred_year.zip', index=False,\n",
    "          compression=compression_opts)"
   ]
  },
  {
   "cell_type": "code",
   "execution_count": 100,
   "metadata": {},
   "outputs": [
    {
     "data": {
      "text/plain": [
       "Bologna                 77\n",
       "Venezia                 63\n",
       "Prato                   35\n",
       "Chiusi                  34\n",
       "Siena                   34\n",
       "                        ..\n",
       "Certaldo                 1\n",
       "S. Matteo in Arcetri     1\n",
       "Terni                    1\n",
       "Amburgo                  1\n",
       "Sartiano                 1\n",
       "Name: Provenance, Length: 138, dtype: int64"
      ]
     },
     "execution_count": 100,
     "metadata": {},
     "output_type": "execute_result"
    }
   ],
   "source": [
    "filtred_with_year.Provenance.value_counts()[-138:]"
   ]
  },
  {
   "cell_type": "code",
   "execution_count": 101,
   "metadata": {},
   "outputs": [
    {
     "data": {
      "text/plain": [
       "792"
      ]
     },
     "execution_count": 101,
     "metadata": {},
     "output_type": "execute_result"
    }
   ],
   "source": [
    "sum(filtred_with_year.Provenance.value_counts()[-138:])"
   ]
  },
  {
   "cell_type": "code",
   "execution_count": 102,
   "metadata": {},
   "outputs": [
    {
     "data": {
      "text/plain": [
       "<AxesSubplot:>"
      ]
     },
     "execution_count": 102,
     "metadata": {},
     "output_type": "execute_result"
    },
    {
     "data": {
      "image/png": "[encoded data removed]",
      "text/plain": [
       "<Figure size 432x288 with 1 Axes>"
      ]
     },
     "metadata": {
      "needs_background": "light"
     },
     "output_type": "display_data"
    }
   ],
   "source": [
    "top_5 = filtred_with_year.Provenance.value_counts().nlargest(6)\n",
    "top_5[5]= sum(filtred_with_year.Provenance.value_counts()[-138:])\n",
    "top_5 = top_5.rename(index={'Bologna':'Rest'})\n",
    "top_5\n",
    "top_5.plot(kind='bar',color=['black', 'red', 'green', 'blue', 'cyan', 'yellow'])"
   ]
  },
  {
   "cell_type": "code",
   "execution_count": 115,
   "metadata": {},
   "outputs": [
    {
     "data": {
      "text/plain": [
       "66"
      ]
     },
     "execution_count": 115,
     "metadata": {},
     "output_type": "execute_result"
    }
   ],
   "source": [
    "len(filtred_with_year.Destination.value_counts())"
   ]
  },
  {
   "cell_type": "code",
   "execution_count": 128,
   "metadata": {},
   "outputs": [
    {
     "data": {
      "text/plain": [
       "'Livorno'"
      ]
     },
     "execution_count": 128,
     "metadata": {},
     "output_type": "execute_result"
    }
   ],
   "source": [
    "filtred_with_year.Destination.value_counts().index[5]"
   ]
  },
  {
   "cell_type": "code",
   "execution_count": 104,
   "metadata": {},
   "outputs": [
    {
     "data": {
      "text/plain": [
       "<AxesSubplot:>"
      ]
     },
     "execution_count": 104,
     "metadata": {},
     "output_type": "execute_result"
    },
    {
     "data": {
      "image/png": "[encoded data removed]",
      "text/plain": [
       "<Figure size 432x288 with 1 Axes>"
      ]
     },
     "metadata": {
      "needs_background": "light"
     },
     "output_type": "display_data"
    }
   ],
   "source": [
    "top_5 = filtred_with_year.Destination.value_counts().nlargest(6)\n",
    "top_5[5]= sum(filtred_with_year.Destination.value_counts()[-61:])\n",
    "top_5 = top_5.rename(index={'Livorno':'Rest'})\n",
    "top_5\n",
    "top_5.plot(kind='bar',color=['black', 'red', 'green', 'blue', 'cyan', 'yellow'])"
   ]
  },
  {
   "cell_type": "code",
   "execution_count": 113,
   "metadata": {},
   "outputs": [
    {
     "data": {
      "text/html": [
       "<div>\n",
       "<style scoped>\n",
       "    .dataframe tbody tr th:only-of-type {\n",
       "        vertical-align: middle;\n",
       "    }\n",
       "\n",
       "    .dataframe tbody tr th {\n",
       "        vertical-align: top;\n",
       "    }\n",
       "\n",
       "    .dataframe thead th {\n",
       "        text-align: right;\n",
       "    }\n",
       "</style>\n",
       "<table border=\"1\" class=\"dataframe\">\n",
       "  <thead>\n",
       "    <tr style=\"text-align: right;\">\n",
       "      <th></th>\n",
       "      <th>Expéditeur</th>\n",
       "      <th>Notes</th>\n",
       "      <th>References</th>\n",
       "      <th>Noms cités</th>\n",
       "      <th>Sujet</th>\n",
       "      <th>Titre</th>\n",
       "      <th>Date</th>\n",
       "      <th>Provenance</th>\n",
       "      <th>Destination</th>\n",
       "      <th>Destinataire</th>\n",
       "      <th>Year</th>\n",
       "    </tr>\n",
       "  </thead>\n",
       "  <tbody>\n",
       "    <tr>\n",
       "      <th>0</th>\n",
       "      <td>Viviani  Vincenzo  1622-1703</td>\n",
       "      <td>Tipologia: letteraIncipit: \"Come posso non agg...</td>\n",
       "      <td>&lt;td class=\"fieldValue\"&gt;&lt;img border=\"0\" src=\"ht...</td>\n",
       "      <td>Torricelli, Evangelista, 1608-1647,(citato.)Ri...</td>\n",
       "      <td>NaN</td>\n",
       "      <td>Viviani Vincenzo a Ricci Michelangelo</td>\n",
       "      <td>20/05/1646</td>\n",
       "      <td>Firenze</td>\n",
       "      <td>Roma</td>\n",
       "      <td>Ricci Michelangelo</td>\n",
       "      <td>1646</td>\n",
       "    </tr>\n",
       "    <tr>\n",
       "      <th>1</th>\n",
       "      <td>Viviani  Vincenzo  1622-1703</td>\n",
       "      <td>Tipologia: letteraIncipit: \"Reputo a mio gran ...</td>\n",
       "      <td>&lt;td class=\"fieldValue\"&gt;&lt;img border=\"0\" src=\"ht...</td>\n",
       "      <td>Torricelli, Evangelista, 1608-1647,(citato.)Re...</td>\n",
       "      <td>NaN</td>\n",
       "      <td>Viviani Vincenzo a Renieri Vincenzo</td>\n",
       "      <td>13/04/1647</td>\n",
       "      <td>Firenze</td>\n",
       "      <td>Pisa</td>\n",
       "      <td>Renieri Vincenzo</td>\n",
       "      <td>1647</td>\n",
       "    </tr>\n",
       "    <tr>\n",
       "      <th>2</th>\n",
       "      <td>Viviani  Vincenzo  1622-1703</td>\n",
       "      <td>Tipologia: letteraIncipit: \"L'esser io per spa...</td>\n",
       "      <td>&lt;td class=\"fieldValue\"&gt;&lt;img border=\"0\" src=\"ht...</td>\n",
       "      <td>Torricelli, Evangelista, 1608-1647,(citato.)Ri...</td>\n",
       "      <td>NaN</td>\n",
       "      <td>Viviani Vincenzo a Ricci Michelangelo</td>\n",
       "      <td>24/11/1648</td>\n",
       "      <td>Firenze</td>\n",
       "      <td>Roma</td>\n",
       "      <td>Ricci Michelangelo</td>\n",
       "      <td>1648</td>\n",
       "    </tr>\n",
       "    <tr>\n",
       "      <th>3</th>\n",
       "      <td>Viviani  Vincenzo  1622-1703</td>\n",
       "      <td>Tipologia: letteraIncipit: \"Haverei necessità ...</td>\n",
       "      <td>&lt;td class=\"fieldValue\"&gt;&lt;img border=\"0\" src=\"ht...</td>\n",
       "      <td>Cecchi, Andrea, sec. XVII,(citato.)Arrighetti,...</td>\n",
       "      <td>NaN</td>\n",
       "      <td>Viviani Vincenzo a Manetti Braccio</td>\n",
       "      <td>18/10/1651</td>\n",
       "      <td>NaN</td>\n",
       "      <td>Firenze</td>\n",
       "      <td>Manetti Braccio</td>\n",
       "      <td>1651</td>\n",
       "    </tr>\n",
       "    <tr>\n",
       "      <th>4</th>\n",
       "      <td>Viviani  Vincenzo  1622-1703</td>\n",
       "      <td>Tipologia: letteraIncipit: \"Qui tutto giorno c...</td>\n",
       "      <td>&lt;td class=\"fieldValue\"&gt;&lt;img border=\"0\" src=\"ht...</td>\n",
       "      <td>Di Pietro, sec. XVII,(citato.)Viviani, Alamann...</td>\n",
       "      <td>Argomenti privati</td>\n",
       "      <td>Viviani Vincenzo a Viviani Alamanno</td>\n",
       "      <td>23/02/1652</td>\n",
       "      <td>Firenze</td>\n",
       "      <td>NaN</td>\n",
       "      <td>Viviani Alamanno</td>\n",
       "      <td>1652</td>\n",
       "    </tr>\n",
       "    <tr>\n",
       "      <th>...</th>\n",
       "      <td>...</td>\n",
       "      <td>...</td>\n",
       "      <td>...</td>\n",
       "      <td>...</td>\n",
       "      <td>...</td>\n",
       "      <td>...</td>\n",
       "      <td>...</td>\n",
       "      <td>...</td>\n",
       "      <td>...</td>\n",
       "      <td>...</td>\n",
       "      <td>...</td>\n",
       "    </tr>\n",
       "    <tr>\n",
       "      <th>2864</th>\n",
       "      <td>Rinaldini  Carlo  1615-1698</td>\n",
       "      <td>Tipologia: letteraIncipit: \"Ricevo qui in Livo...</td>\n",
       "      <td>&lt;td class=\"fieldValue\"&gt;&lt;img border=\"0\" src=\"ht...</td>\n",
       "      <td>Medici, Leopoldo de', 1617-1675,(citato.)Vivia...</td>\n",
       "      <td>NaN</td>\n",
       "      <td>Rinaldini Carlo a Viviani Vincenzo</td>\n",
       "      <td>30/01/1658</td>\n",
       "      <td>Livorno</td>\n",
       "      <td>Firenze</td>\n",
       "      <td>Viviani Vincenzo</td>\n",
       "      <td>1658</td>\n",
       "    </tr>\n",
       "    <tr>\n",
       "      <th>2865</th>\n",
       "      <td>Rinaldini  Carlo  1615-1698</td>\n",
       "      <td>Tipologia: letteraIncipit: \"Son ritornato in P...</td>\n",
       "      <td>&lt;td class=\"fieldValue\"&gt;&lt;img border=\"0\" src=\"ht...</td>\n",
       "      <td>Serenai, Lodovico, 1599-1685,(citato.)Viviani,...</td>\n",
       "      <td>NaN</td>\n",
       "      <td>Rinaldini Carlo a Viviani Vincenzo</td>\n",
       "      <td>1/02/1658</td>\n",
       "      <td>NaN</td>\n",
       "      <td>NaN</td>\n",
       "      <td>Viviani Vincenzo</td>\n",
       "      <td>1658</td>\n",
       "    </tr>\n",
       "    <tr>\n",
       "      <th>2866</th>\n",
       "      <td>Rinaldini  Carlo  1615-1698</td>\n",
       "      <td>Tipologia: letteraIncipit: \"Ricevo questa matt...</td>\n",
       "      <td>&lt;td class=\"fieldValue\"&gt;&lt;img border=\"0\" src=\"ht...</td>\n",
       "      <td>Viviani, Vincenzo, 1622-1703,(destinatario.)Gu...</td>\n",
       "      <td>NaN</td>\n",
       "      <td>Rinaldini Carlo a Viviani Vincenzo</td>\n",
       "      <td>4/02/1658</td>\n",
       "      <td>NaN</td>\n",
       "      <td>NaN</td>\n",
       "      <td>Viviani Vincenzo</td>\n",
       "      <td>1658</td>\n",
       "    </tr>\n",
       "    <tr>\n",
       "      <th>2867</th>\n",
       "      <td>Rinaldini  Carlo  1615-1698</td>\n",
       "      <td>Tipologia: letteraIncipit: \"Servirò V.S. e que...</td>\n",
       "      <td>&lt;td class=\"fieldValue\"&gt;&lt;img border=\"0\" src=\"ht...</td>\n",
       "      <td>Della Rena, Cosimo, sec. XVII,(citato.)Galilei...</td>\n",
       "      <td>NaN</td>\n",
       "      <td>Rinaldini Carlo a Viviani Vincenzo</td>\n",
       "      <td>25/02/1658</td>\n",
       "      <td>NaN</td>\n",
       "      <td>FirenzePisa</td>\n",
       "      <td>Viviani Vincenzo</td>\n",
       "      <td>1658</td>\n",
       "    </tr>\n",
       "    <tr>\n",
       "      <th>2868</th>\n",
       "      <td>Rinaldini  Carlo  1615-1698</td>\n",
       "      <td>Tipologia: letteraIncipit: \"Mi vien detto per ...</td>\n",
       "      <td>&lt;td class=\"fieldValue\"&gt;&lt;img border=\"0\" src=\"ht...</td>\n",
       "      <td>Medici, Leopoldo de', 1617-1675,(citato.)Vivia...</td>\n",
       "      <td>NaN</td>\n",
       "      <td>Rinaldini Carlo a Viviani Vincenzo</td>\n",
       "      <td>9/03/1658</td>\n",
       "      <td>NaN</td>\n",
       "      <td>NaN</td>\n",
       "      <td>Viviani Vincenzo</td>\n",
       "      <td>1658</td>\n",
       "    </tr>\n",
       "  </tbody>\n",
       "</table>\n",
       "<p>2801 rows × 11 columns</p>\n",
       "</div>"
      ],
      "text/plain": [
       "                        Expéditeur  \\\n",
       "0     Viviani  Vincenzo  1622-1703   \n",
       "1     Viviani  Vincenzo  1622-1703   \n",
       "2     Viviani  Vincenzo  1622-1703   \n",
       "3     Viviani  Vincenzo  1622-1703   \n",
       "4     Viviani  Vincenzo  1622-1703   \n",
       "...                            ...   \n",
       "2864   Rinaldini  Carlo  1615-1698   \n",
       "2865   Rinaldini  Carlo  1615-1698   \n",
       "2866   Rinaldini  Carlo  1615-1698   \n",
       "2867   Rinaldini  Carlo  1615-1698   \n",
       "2868   Rinaldini  Carlo  1615-1698   \n",
       "\n",
       "                                                  Notes  \\\n",
       "0     Tipologia: letteraIncipit: \"Come posso non agg...   \n",
       "1     Tipologia: letteraIncipit: \"Reputo a mio gran ...   \n",
       "2     Tipologia: letteraIncipit: \"L'esser io per spa...   \n",
       "3     Tipologia: letteraIncipit: \"Haverei necessità ...   \n",
       "4     Tipologia: letteraIncipit: \"Qui tutto giorno c...   \n",
       "...                                                 ...   \n",
       "2864  Tipologia: letteraIncipit: \"Ricevo qui in Livo...   \n",
       "2865  Tipologia: letteraIncipit: \"Son ritornato in P...   \n",
       "2866  Tipologia: letteraIncipit: \"Ricevo questa matt...   \n",
       "2867  Tipologia: letteraIncipit: \"Servirò V.S. e que...   \n",
       "2868  Tipologia: letteraIncipit: \"Mi vien detto per ...   \n",
       "\n",
       "                                             References  \\\n",
       "0     <td class=\"fieldValue\"><img border=\"0\" src=\"ht...   \n",
       "1     <td class=\"fieldValue\"><img border=\"0\" src=\"ht...   \n",
       "2     <td class=\"fieldValue\"><img border=\"0\" src=\"ht...   \n",
       "3     <td class=\"fieldValue\"><img border=\"0\" src=\"ht...   \n",
       "4     <td class=\"fieldValue\"><img border=\"0\" src=\"ht...   \n",
       "...                                                 ...   \n",
       "2864  <td class=\"fieldValue\"><img border=\"0\" src=\"ht...   \n",
       "2865  <td class=\"fieldValue\"><img border=\"0\" src=\"ht...   \n",
       "2866  <td class=\"fieldValue\"><img border=\"0\" src=\"ht...   \n",
       "2867  <td class=\"fieldValue\"><img border=\"0\" src=\"ht...   \n",
       "2868  <td class=\"fieldValue\"><img border=\"0\" src=\"ht...   \n",
       "\n",
       "                                             Noms cités              Sujet  \\\n",
       "0     Torricelli, Evangelista, 1608-1647,(citato.)Ri...                NaN   \n",
       "1     Torricelli, Evangelista, 1608-1647,(citato.)Re...                NaN   \n",
       "2     Torricelli, Evangelista, 1608-1647,(citato.)Ri...                NaN   \n",
       "3     Cecchi, Andrea, sec. XVII,(citato.)Arrighetti,...                NaN   \n",
       "4     Di Pietro, sec. XVII,(citato.)Viviani, Alamann...  Argomenti privati   \n",
       "...                                                 ...                ...   \n",
       "2864  Medici, Leopoldo de', 1617-1675,(citato.)Vivia...                NaN   \n",
       "2865  Serenai, Lodovico, 1599-1685,(citato.)Viviani,...                NaN   \n",
       "2866  Viviani, Vincenzo, 1622-1703,(destinatario.)Gu...                NaN   \n",
       "2867  Della Rena, Cosimo, sec. XVII,(citato.)Galilei...                NaN   \n",
       "2868  Medici, Leopoldo de', 1617-1675,(citato.)Vivia...                NaN   \n",
       "\n",
       "                                      Titre        Date Provenance  \\\n",
       "0     Viviani Vincenzo a Ricci Michelangelo  20/05/1646    Firenze   \n",
       "1       Viviani Vincenzo a Renieri Vincenzo  13/04/1647    Firenze   \n",
       "2     Viviani Vincenzo a Ricci Michelangelo  24/11/1648    Firenze   \n",
       "3        Viviani Vincenzo a Manetti Braccio  18/10/1651        NaN   \n",
       "4       Viviani Vincenzo a Viviani Alamanno  23/02/1652    Firenze   \n",
       "...                                     ...         ...        ...   \n",
       "2864     Rinaldini Carlo a Viviani Vincenzo  30/01/1658    Livorno   \n",
       "2865     Rinaldini Carlo a Viviani Vincenzo   1/02/1658        NaN   \n",
       "2866     Rinaldini Carlo a Viviani Vincenzo   4/02/1658        NaN   \n",
       "2867     Rinaldini Carlo a Viviani Vincenzo  25/02/1658        NaN   \n",
       "2868     Rinaldini Carlo a Viviani Vincenzo   9/03/1658        NaN   \n",
       "\n",
       "      Destination        Destinataire  Year  \n",
       "0            Roma  Ricci Michelangelo  1646  \n",
       "1            Pisa    Renieri Vincenzo  1647  \n",
       "2            Roma  Ricci Michelangelo  1648  \n",
       "3         Firenze     Manetti Braccio  1651  \n",
       "4             NaN    Viviani Alamanno  1652  \n",
       "...           ...                 ...   ...  \n",
       "2864      Firenze    Viviani Vincenzo  1658  \n",
       "2865          NaN    Viviani Vincenzo  1658  \n",
       "2866          NaN    Viviani Vincenzo  1658  \n",
       "2867  FirenzePisa    Viviani Vincenzo  1658  \n",
       "2868          NaN    Viviani Vincenzo  1658  \n",
       "\n",
       "[2801 rows x 11 columns]"
      ]
     },
     "execution_count": 113,
     "metadata": {},
     "output_type": "execute_result"
    }
   ],
   "source": [
    "filtred_with_year.Year.unique()\n",
    "filtred_id = filtred_with_year.loc[filtred_with_year['Year'].str.find('Unidentified') != 0]\n",
    "filtred_id"
   ]
  },
  {
   "cell_type": "code",
   "execution_count": 198,
   "metadata": {
    "scrolled": false
   },
   "outputs": [
    {
     "data": {
      "text/html": [
       "<div>\n",
       "<style scoped>\n",
       "    .dataframe tbody tr th:only-of-type {\n",
       "        vertical-align: middle;\n",
       "    }\n",
       "\n",
       "    .dataframe tbody tr th {\n",
       "        vertical-align: top;\n",
       "    }\n",
       "\n",
       "    .dataframe thead th {\n",
       "        text-align: right;\n",
       "    }\n",
       "</style>\n",
       "<table border=\"1\" class=\"dataframe\">\n",
       "  <thead>\n",
       "    <tr style=\"text-align: right;\">\n",
       "      <th></th>\n",
       "      <th>Expéditeur</th>\n",
       "      <th>Notes</th>\n",
       "      <th>References</th>\n",
       "      <th>Noms cités</th>\n",
       "      <th>Sujet</th>\n",
       "      <th>Titre</th>\n",
       "      <th>Date</th>\n",
       "      <th>Provenance</th>\n",
       "      <th>Destination</th>\n",
       "      <th>Destinataire</th>\n",
       "      <th>Year</th>\n",
       "    </tr>\n",
       "  </thead>\n",
       "  <tbody>\n",
       "    <tr>\n",
       "      <th>1299</th>\n",
       "      <td>Del Bianco  Baccio  1604-1656</td>\n",
       "      <td>Tipologia: letteraIncipit: \"L'indugio piglia v...</td>\n",
       "      <td>&lt;td class=\"fieldValue\"&gt;&lt;img border=\"0\" src=\"ht...</td>\n",
       "      <td>Viviani, Vincenzo, 1622-1703,(destinatario.)Ba...</td>\n",
       "      <td>Argomenti privati</td>\n",
       "      <td>Del Bianco Baccio a Viviani Vincenzo</td>\n",
       "      <td>17/01/1650</td>\n",
       "      <td>Genova</td>\n",
       "      <td>NaN</td>\n",
       "      <td>Viviani Vincenzo</td>\n",
       "      <td>1650</td>\n",
       "    </tr>\n",
       "  </tbody>\n",
       "</table>\n",
       "</div>"
      ],
      "text/plain": [
       "                         Expéditeur  \\\n",
       "1299  Del Bianco  Baccio  1604-1656   \n",
       "\n",
       "                                                  Notes  \\\n",
       "1299  Tipologia: letteraIncipit: \"L'indugio piglia v...   \n",
       "\n",
       "                                             References  \\\n",
       "1299  <td class=\"fieldValue\"><img border=\"0\" src=\"ht...   \n",
       "\n",
       "                                             Noms cités              Sujet  \\\n",
       "1299  Viviani, Vincenzo, 1622-1703,(destinatario.)Ba...  Argomenti privati   \n",
       "\n",
       "                                     Titre        Date Provenance Destination  \\\n",
       "1299  Del Bianco Baccio a Viviani Vincenzo  17/01/1650     Genova         NaN   \n",
       "\n",
       "          Destinataire  Year  \n",
       "1299  Viviani Vincenzo  1650  "
      ]
     },
     "execution_count": 198,
     "metadata": {},
     "output_type": "execute_result"
    }
   ],
   "source": [
    "filtred_id_test = filtred_id.loc[filtred_id['Year'].str.find('1650')!= -1] \n",
    "filtred_id_test"
   ]
  },
  {
   "cell_type": "code",
   "execution_count": 166,
   "metadata": {},
   "outputs": [
    {
     "data": {
      "text/plain": [
       "2"
      ]
     },
     "execution_count": 166,
     "metadata": {},
     "output_type": "execute_result"
    }
   ],
   "source": [
    "len(filtred_id_test.index)"
   ]
  },
  {
   "cell_type": "code",
   "execution_count": 210,
   "metadata": {
    "scrolled": false
   },
   "outputs": [
    {
     "data": {
      "image/png": "[encoded data removed]",
      "text/plain": [
       "<Figure size 432x288 with 1 Axes>"
      ]
     },
     "metadata": {
      "needs_background": "light"
     },
     "output_type": "display_data"
    }
   ],
   "source": [
    "#Going through all years for letters sent\n",
    "for i in filtred_id.Year.unique():\n",
    "    filtred_id_i = filtred_id.loc[filtred_id['Year'].str.find(str(i))!= -1] \n",
    "    filtred_id_i = filtred_id_i.dropna(subset=['Destination'])\n",
    "    plt.suptitle('year '+str(i))\n",
    "    if filtred_id_i.empty:\n",
    "        pass\n",
    "    else:\n",
    "        if((len(filtred_id_i.Destination.unique()) <= 5) & (len(filtred_id_i.Destination.unique()) > 0)):\n",
    "            filtred_id_i.Destination.value_counts().plot(kind='bar',color=['darkred', 'tomato', 'chocolate', 'gold', 'darkgreen', 'dimgray'])\n",
    "            plt.tight_layout()\n",
    "            plt.savefig('Year ' +str(i) + ' Envoyées & Cumulées.png',dpi=150)\n",
    "        else:\n",
    "            top_5 = filtred_id_i.Destination.value_counts().nlargest(6)\n",
    "            top_5[5]= sum(filtred_id_i.Destination.value_counts()[-(len(filtred_id_i.value_counts())-5):])\n",
    "            top_5 = top_5.rename(index={top_5.index[5]:'Others'})\n",
    "            top_5.plot(kind='bar',color=['darkred', 'tomato', 'chocolate', 'gold', 'darkgreen', 'dimgray'])\n",
    "            plt.tight_layout()\n",
    "            plt.savefig('Year ' +str(i) + ' Envoyées & Cumulées.png', dpi=150)\n",
    "    \n",
    "    "
   ]
  },
  {
   "cell_type": "code",
   "execution_count": 225,
   "metadata": {},
   "outputs": [
    {
     "data": {
      "image/png": "[encoded data removed]",
      "text/plain": [
       "<Figure size 432x288 with 1 Axes>"
      ]
     },
     "metadata": {
      "needs_background": "light"
     },
     "output_type": "display_data"
    }
   ],
   "source": [
    "#Going through all years for letters Received\n",
    "\n",
    "for i in filtred_id.Year.unique():\n",
    "    filtred_id_i = filtred_id.loc[filtred_id['Year'].str.find(str(i))!= -1] \n",
    "    filtred_id_i = filtred_id_i.dropna(subset=['Provenance'])\n",
    "    plt.suptitle('year '+str(i))\n",
    "    if filtred_id_i.empty:\n",
    "        pass\n",
    "    else:\n",
    "        if((len(filtred_id_i.Provenance.unique()) <= 5) & (len(filtred_id_i.Provenance.unique()) > 0)):\n",
    "            filtred_id_i.Provenance.value_counts().plot(kind='bar',color=['darkred', 'tomato', 'chocolate', 'gold', 'darkgreen', 'dimgray'])\n",
    "            plt.tight_layout()\n",
    "            plt.savefig('Year ' +str(i) + ' Envoyées & Cumulées.png',dpi=150)\n",
    "        else:\n",
    "            top_5 = filtred_id_i.Provenance.value_counts().nlargest(6)\n",
    "            top_5[5]= sum(filtred_id_i.Provenance.value_counts()[-(len(filtred_id_i.value_counts())-5):])\n",
    "            top_5 = top_5.rename(index={top_5.index[5]:'Others'})\n",
    "            top_5.plot(kind='bar',color=['darkred', 'tomato', 'chocolate', 'gold', 'darkgreen', 'dimgray'])\n",
    "            plt.tight_layout()\n",
    "            plt.savefig('Year ' +str(i) + ' Envoyées & Cumulées.png', dpi=150)"
   ]
  },
  {
   "cell_type": "code",
   "execution_count": null,
   "metadata": {},
   "outputs": [],
   "source": []
  },
  {
   "cell_type": "code",
   "execution_count": 249,
   "metadata": {},
   "outputs": [
    {
     "name": "stderr",
     "output_type": "stream",
     "text": [
      "<ipython-input-249-bea257211b45>:20: UserWarning: Tight layout not applied. The bottom and top margins cannot be made large enough to accommodate all axes decorations. \n",
      "  plt.tight_layout()\n"
     ]
    },
    {
     "data": {
      "image/png": "[encoded data removed]",
      "text/plain": [
       "<Figure size 432x288 with 1 Axes>"
      ]
     },
     "metadata": {
      "needs_background": "light"
     },
     "output_type": "display_data"
    }
   ],
   "source": [
    "#Going through all years for correspondants\n",
    "\n",
    "sent_id = sent.loc[sent['Year'].str.find('Unidentified') != 0]\n",
    "for i in sent_id.Year.unique():\n",
    "    sent_id_i = sent_id.loc[sent_id['Year'].str.find(str(i))!= -1] \n",
    "    sent_id_i = sent_id_i.dropna(subset=['Destinataire'])\n",
    "    plt.suptitle('year '+str(i))\n",
    "    if filtred_id_i.empty:\n",
    "        pass\n",
    "    else:\n",
    "        if(len(sent_id_i.Destinataire.unique()) <= 5) & (len(sent_id_i.Destinataire.unique()) > 0) :\n",
    "            sent_id_i.Destinataire.value_counts().plot(kind='bar',color=['darkred', 'tomato', 'chocolate', 'gold', 'darkgreen', 'dimgray'])\n",
    "            plt.tight_layout()\n",
    "            plt.savefig('Year ' +str(i) + ' Envoyées & Cumulées.png',dpi=150)\n",
    "        else:\n",
    "            top_5 = sent_id_i.Destinataire.value_counts().nlargest(6)\n",
    "            top_5[5]= sum(sent_id_i.Destinataire.value_counts()[-(len(sent_id_i.value_counts())-5):])\n",
    "            top_5 = top_5.rename(index={top_5.index[5]:'Others'})\n",
    "            top_5.plot(kind='bar',color=['darkred', 'tomato', 'chocolate', 'gold', 'darkgreen', 'dimgray'])\n",
    "            plt.tight_layout()\n",
    "            plt.savefig('Year ' +str(i) + ' Envoyées.png', dpi=150)"
   ]
  },
  {
   "cell_type": "code",
   "execution_count": 259,
   "metadata": {},
   "outputs": [
    {
     "name": "stderr",
     "output_type": "stream",
     "text": [
      "<ipython-input-259-5722879e7846>:20: UserWarning: Tight layout not applied. The bottom and top margins cannot be made large enough to accommodate all axes decorations. \n",
      "  plt.tight_layout()\n"
     ]
    },
    {
     "data": {
      "image/png": "[encoded data removed]",
      "text/plain": [
       "<Figure size 432x288 with 1 Axes>"
      ]
     },
     "metadata": {
      "needs_background": "light"
     },
     "output_type": "display_data"
    }
   ],
   "source": [
    "#Going through all years for correspondants\n",
    "\n",
    "received_id = Received.loc[Received['Year'].str.find('Unidentified') != 0]\n",
    "for i in received_id.Year.unique():\n",
    "    received_id_i = received_id.loc[received_id['Year'].str.find(str(i))!= -1] \n",
    "    received_id_i = received_id_i.dropna(subset=['Expéditeur'])\n",
    "    plt.suptitle('year '+str(i))\n",
    "    if filtred_id_i.empty:\n",
    "        pass\n",
    "    else:\n",
    "        if(len(received_id_i['Expéditeur'].unique()) <= 5) & (len(received_id_i['Expéditeur'].unique()) > 0) :\n",
    "            received_id_i['Expéditeur'].value_counts().plot(kind='bar',color=['darkred', 'tomato', 'chocolate', 'gold', 'darkgreen', 'dimgray'])\n",
    "            plt.tight_layout()\n",
    "            plt.savefig('Year ' +str(i) + ' Reçues.png',dpi=150)\n",
    "        else:\n",
    "            top_5 = received_id_i['Expéditeur'].value_counts().nlargest(6)\n",
    "            top_5[5]= sum(received_id_i['Expéditeur'].value_counts()[-(len(received_id_i['Expéditeur'].value_counts())-5):])\n",
    "            top_5 = top_5.rename(index={top_5.index[5]:'Others'})\n",
    "            top_5.plot(kind='bar',color=['darkred', 'tomato', 'chocolate', 'gold', 'darkgreen', 'dimgray'])\n",
    "            plt.tight_layout()\n",
    "            plt.savefig('Year ' +str(i) + ' Reçues.png', dpi=150)"
   ]
  },
  {
   "cell_type": "code",
   "execution_count": 301,
   "metadata": {},
   "outputs": [
    {
     "data": {
      "image/png": "[encoded data removed]",
      "text/plain": [
       "<Figure size 432x288 with 1 Axes>"
      ]
     },
     "metadata": {
      "needs_background": "light"
     },
     "output_type": "display_data"
    }
   ],
   "source": [
    "#Going through all years for Southwell\n",
    "plt.suptitle('Sent to Southwell')\n",
    "sent_id = sent.loc[sent['Year'].str.find('Unidentified') != 0]\n",
    "sent_southwell = sent_id.loc[sent_id['Destinataire'].str.find('Southwell') != -1]\n",
    "sent_southwell.value_counts('Year').sort_index().plot(kind = 'bar')\n",
    "plt.tight_layout()\n",
    "plt.savefig('Sent to southwell.png', dpi=150)\n",
    "\n"
   ]
  },
  {
   "cell_type": "code",
   "execution_count": 303,
   "metadata": {},
   "outputs": [
    {
     "data": {
      "image/png": "[encoded data removed]",
      "text/plain": [
       "<Figure size 432x288 with 1 Axes>"
      ]
     },
     "metadata": {
      "needs_background": "light"
     },
     "output_type": "display_data"
    }
   ],
   "source": [
    "plt.suptitle('Sent by Southwell')\n",
    "received_id = Received.loc[Received['Year'].str.find('Unidentified') != 0]\n",
    "received_southwell = received_id.loc[received_id['Expéditeur'].str.find('Southwell') != -1]\n",
    "received_southwell.value_counts('Year').sort_index().plot(kind = 'bar')\n",
    "plt.tight_layout()\n",
    "plt.savefig('Sent by southwell.png', dpi=150)"
   ]
  },
  {
   "cell_type": "code",
   "execution_count": 304,
   "metadata": {},
   "outputs": [
    {
     "data": {
      "image/png": "[encoded data removed]",
      "text/plain": [
       "<Figure size 432x288 with 1 Axes>"
      ]
     },
     "metadata": {
      "needs_background": "light"
     },
     "output_type": "display_data"
    }
   ],
   "source": [
    "#Going through all years for Borelli\n",
    "plt.suptitle('Sent to Borelli')\n",
    "sent_id = sent.loc[sent['Year'].str.find('Unidentified') != 0]\n",
    "sent_southwell = sent_id.loc[sent_id['Destinataire'].str.find('Borelli') != -1]\n",
    "sent_southwell.value_counts('Year').sort_index().plot(kind = 'bar')\n",
    "plt.tight_layout()\n",
    "plt.savefig('Sent to Borelli.png', dpi=150)\n",
    "\n"
   ]
  },
  {
   "cell_type": "code",
   "execution_count": 305,
   "metadata": {},
   "outputs": [
    {
     "data": {
      "image/png": "[encoded data removed]",
      "text/plain": [
       "<Figure size 432x288 with 1 Axes>"
      ]
     },
     "metadata": {
      "needs_background": "light"
     },
     "output_type": "display_data"
    }
   ],
   "source": [
    "plt.suptitle('Sent by Borelli')\n",
    "received_id = Received.loc[Received['Year'].str.find('Unidentified') != 0]\n",
    "received_Borelli = received_id.loc[received_id['Expéditeur'].str.find('Borelli') != -1]\n",
    "received_Borelli.value_counts('Year').sort_index().plot(kind = 'bar')\n",
    "plt.tight_layout()\n",
    "plt.savefig('Sent by Borelli.png', dpi=150)"
   ]
  },
  {
   "cell_type": "code",
   "execution_count": null,
   "metadata": {},
   "outputs": [],
   "source": []
  }
 ],
 "metadata": {
  "kernelspec": {
   "display_name": "Python 3",
   "language": "python",
   "name": "python3"
  },
  "language_info": {
   "codemirror_mode": {
    "name": "ipython",
    "version": 3
   },
   "file_extension": ".py",
   "mimetype": "text/x-python",
   "name": "python",
   "nbconvert_exporter": "python",
   "pygments_lexer": "ipython3",
   "version": "3.8.5"
  }
 },
 "nbformat": 4,
 "nbformat_minor": 4
}
